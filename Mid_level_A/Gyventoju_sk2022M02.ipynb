{
 "cells": [
  {
   "cell_type": "code",
   "execution_count": 14,
   "id": "77d2e815",
   "metadata": {},
   "outputs": [],
   "source": [
    "# Mid Level A uzduočiai alikti, (vizualizuoti Lietuvos savivaldybes pagal jų antrinio sergamumo (prevalence) \n",
    "# rangą padieniui didžiausio sergamumo 30 dienų laikotarpiu) buvo susikelti iš Agreguoti_COVID19.xlsx duomenys.   \n",
    "# Gyventojų skaičiaus kitimas padieniui nėra skelbiamas, skelbiama kas mėnesį, todėl buvo naudojami gimusių ir mirusių \n",
    "# duomenys. Nustačius kad dižiausi susirgimų skaičiai yra 2022 metų vasarį, šiam mėnesiui buvo paskaičiuotas\n",
    "# gyventojų skaičiaus kitimas padieniui, panaudojant interpoliaciją. Imigracijos duomenys į skaičiavimus nebuvo įtraukti."
   ]
  },
  {
   "cell_type": "code",
   "execution_count": null,
   "id": "b7b296b8",
   "metadata": {},
   "outputs": [],
   "source": [
    "import pandas as pd\n",
    "\n",
    "# susikeliami duomenys iš Excelio filų,į duomenų matricas visas gyventojų skaičius (df_visi), gimusių (df_gime) ir mirusių (df_mire) per pirmus 2022 metų mėnesius.\n",
    "df_mire = pd.read_excel('/Users/daivadaugelaite/Downloads/data-mire2.xlsx')\n",
    "df_gime = pd.read_excel('/Users/daivadaugelaite/Downloads/data-gime2.xlsx')   \n",
    "df_visi = pd.read_excel('/Users/daivadaugelaite/Downloads/data-visi2.xlsx')"
   ]
  },
  {
   "cell_type": "code",
   "execution_count": 39,
   "id": "47cfa26c",
   "metadata": {},
   "outputs": [],
   "source": [
    "\n",
    "# sujungiama duomenų matrica (df_visi) su duomenų matrica df_gime pagal savivaldybių ('Municipalities') indeksą. \n",
    "aligned_df = df_visi.join(df_gime, lsuffix='_visi', rsuffix='_2022M01').fillna(0)\n",
    "\n",
    "# prijungiama duomenų matrica df_mire su mirusiųjų duomenimis\n",
    "aligned_df = aligned_df.join(df_mire, lsuffix='_gyvi', rsuffix='_mire').fillna(0)"
   ]
  },
  {
   "cell_type": "code",
   "execution_count": 41,
   "id": "d3ff1033",
   "metadata": {},
   "outputs": [
    {
     "name": "stdout",
     "output_type": "stream",
     "text": [
      "    Municipalities_visi       Visi    Miestas    Kaimas  \\\n",
      "0   Lietuvos Respublika  2805998.0  1913385.0  892613.0   \n",
      "1     Sostinės regionas   817950.0   651145.0  166805.0   \n",
      "2    Vilniaus apskritis   817950.0   651145.0  166805.0   \n",
      "3        Elektrėnų sav.    23521.0    15678.0    7843.0   \n",
      "4    Šalčininkų r. sav.    29699.0    10594.0   19105.0   \n",
      "..                  ...        ...        ...       ...   \n",
      "69    Ignalinos r. sav.    14464.0     5703.0    8761.0   \n",
      "70       Molėtų r. sav.    16926.0     5722.0   11204.0   \n",
      "71       Utenos r. sav.    37266.0    25204.0   12062.0   \n",
      "72        Visagino sav.    19404.0    19214.0     190.0   \n",
      "73       Zarasų r. sav.    14790.0     6442.0    8348.0   \n",
      "\n",
      "   Municipalities_2022M01  2022M01_gyvi  2022M02_gyvi  2022M03_gyvi  \\\n",
      "0     Lietuvos Respublika        1799.0        1601.0        1826.0   \n",
      "1       Sostinės regionas         631.0         567.0         620.0   \n",
      "2      Vilniaus apskritis         631.0         567.0         620.0   \n",
      "3          Elektrėnų sav.          19.0          12.0          17.0   \n",
      "4      Šalčininkų r. sav.          21.0          18.0          20.0   \n",
      "..                    ...           ...           ...           ...   \n",
      "69      Ignalinos r. sav.           6.0           0.0           8.0   \n",
      "70         Molėtų r. sav.           4.0           5.0           6.0   \n",
      "71         Utenos r. sav.          20.0          13.0          19.0   \n",
      "72          Visagino sav.           8.0           9.0           8.0   \n",
      "73         Zarasų r. sav.           5.0           0.0           8.0   \n",
      "\n",
      "         Municipalities  2022M01_mire  2022M02_mire  2022M03_mire  \n",
      "0   Lietuvos Respublika        4234.0        3961.0        4038.0  \n",
      "1     Sostinės regionas        1060.0         949.0         993.0  \n",
      "2    Vilniaus apskritis        1060.0         949.0         993.0  \n",
      "3        Elektrėnų sav.          33.0          30.0          34.0  \n",
      "4    Šalčininkų r. sav.          65.0          53.0          42.0  \n",
      "..                  ...           ...           ...           ...  \n",
      "69    Ignalinos r. sav.          33.0          29.0          50.0  \n",
      "70       Molėtų r. sav.          31.0          34.0          30.0  \n",
      "71       Utenos r. sav.          61.0          61.0          61.0  \n",
      "72        Visagino sav.          31.0          30.0          26.0  \n",
      "73       Zarasų r. sav.          43.0          26.0          27.0  \n",
      "\n",
      "[74 rows x 12 columns]\n"
     ]
    }
   ],
   "source": [
    "print(aligned_df)\n",
    "aligned_df.to_excel(\"gyvent_matrica.xlsx\", index=False)"
   ]
  },
  {
   "cell_type": "code",
   "execution_count": 16,
   "id": "54f115d3",
   "metadata": {},
   "outputs": [],
   "source": [
    "\n",
    "# Apply the first calculation\n",
    "aligned_df_first_calculation = aligned_df.copy()  # kopija duomenų matricos\n",
    "aligned_df_first_calculation.loc[:, 'Visi'] += (aligned_df_first_calculation.loc[:, '2022M02_gyvi'] + aligned_df_first_calculation.loc[:, '2022M01_existing']\n",
    "                                               - aligned_df_first_calculation.loc[:, '2022M01_mire'] - aligned_df_first_calculation.loc[:, '2022M02_mire'])\n"
   ]
  },
  {
   "cell_type": "code",
   "execution_count": 17,
   "id": "f5adb7bc",
   "metadata": {},
   "outputs": [],
   "source": [
    "\n",
    "# Apply the second calculation\n",
    "aligned_df_second_calculation = aligned_df.copy()\n",
    "aligned_df_second_calculation.loc[:, 'Visi'] += (aligned_df_second_calculation.loc[:, '2022M02_gyvi'] + aligned_df_second_calculation.loc[:, '2022M01_gyvi'] + aligned_df_second_calculation.loc[:, '2022M03_gyvi']\n",
    "                                                 - aligned_df_second_calculation.loc[:, '2022M01_mire'] - aligned_df_second_calculation.loc[:, '2022M02_mire'] - aligned_df_second_calculation.loc[:, '2022M03_mire'])\n"
   ]
  },
  {
   "cell_type": "code",
   "execution_count": 18,
   "id": "749e6e62",
   "metadata": {},
   "outputs": [],
   "source": [
    "# Calculate the difference\n",
    "aligned_df_difference = aligned_df_second_calculation.copy()\n",
    "aligned_df_difference.loc[:, 'Visi_Difference'] = (aligned_df_second_calculation.loc[:, 'Visi'] - aligned_df_first_calculation.loc[:, 'Visi']) / 28\n"
   ]
  },
  {
   "cell_type": "code",
   "execution_count": 19,
   "id": "b387a36e",
   "metadata": {},
   "outputs": [],
   "source": [
    "# sukurima tuščia duomenų matrica 28 dienom, \n",
    "new_df = pd.DataFrame(index=pd.RangeIndex(1, 74))"
   ]
  },
  {
   "cell_type": "code",
   "execution_count": 20,
   "id": "454ae68b",
   "metadata": {},
   "outputs": [],
   "source": [
    "\n",
    "new_df.reset_index(drop=True, inplace=True)"
   ]
  },
  {
   "cell_type": "code",
   "execution_count": 21,
   "id": "af46e8e9",
   "metadata": {},
   "outputs": [
    {
     "name": "stdout",
     "output_type": "stream",
     "text": [
      "    Municipalities_visi       Visi    Miestas    Kaimas  \\\n",
      "0   Lietuvos Respublika  2805998.0  1913385.0  892613.0   \n",
      "1     Sostinės regionas   817950.0   651145.0  166805.0   \n",
      "2    Vilniaus apskritis   817950.0   651145.0  166805.0   \n",
      "3        Elektrėnų sav.    23521.0    15678.0    7843.0   \n",
      "4    Šalčininkų r. sav.    29699.0    10594.0   19105.0   \n",
      "..                  ...        ...        ...       ...   \n",
      "69    Ignalinos r. sav.    14464.0     5703.0    8761.0   \n",
      "70       Molėtų r. sav.    16926.0     5722.0   11204.0   \n",
      "71       Utenos r. sav.    37266.0    25204.0   12062.0   \n",
      "72        Visagino sav.    19404.0    19214.0     190.0   \n",
      "73       Zarasų r. sav.    14790.0     6442.0    8348.0   \n",
      "\n",
      "   Municipalities_2022M01  2022M01_existing  2022M02_existing  \\\n",
      "0     Lietuvos Respublika            1799.0            1601.0   \n",
      "1       Sostinės regionas             631.0             567.0   \n",
      "2      Vilniaus apskritis             631.0             567.0   \n",
      "3          Elektrėnų sav.              19.0              12.0   \n",
      "4      Šalčininkų r. sav.              21.0              18.0   \n",
      "..                    ...               ...               ...   \n",
      "69      Ignalinos r. sav.               6.0               0.0   \n",
      "70         Molėtų r. sav.               4.0               5.0   \n",
      "71         Utenos r. sav.              20.0              13.0   \n",
      "72          Visagino sav.               8.0               9.0   \n",
      "73         Zarasų r. sav.               5.0               0.0   \n",
      "\n",
      "    2022M03_existing       Municipalities  2022M01_mire  2022M02_mire  \\\n",
      "0             1826.0  Lietuvos Respublika        4234.0        3961.0   \n",
      "1              620.0    Sostinės regionas        1060.0         949.0   \n",
      "2              620.0   Vilniaus apskritis        1060.0         949.0   \n",
      "3               17.0       Elektrėnų sav.          33.0          30.0   \n",
      "4               20.0   Šalčininkų r. sav.          65.0          53.0   \n",
      "..               ...                  ...           ...           ...   \n",
      "69               8.0    Ignalinos r. sav.          33.0          29.0   \n",
      "70               6.0       Molėtų r. sav.          31.0          34.0   \n",
      "71              19.0       Utenos r. sav.          61.0          61.0   \n",
      "72               8.0        Visagino sav.          31.0          30.0   \n",
      "73               8.0       Zarasų r. sav.          43.0          26.0   \n",
      "\n",
      "    2022M03_mire  \n",
      "0         4038.0  \n",
      "1          993.0  \n",
      "2          993.0  \n",
      "3           34.0  \n",
      "4           42.0  \n",
      "..           ...  \n",
      "69          50.0  \n",
      "70          30.0  \n",
      "71          61.0  \n",
      "72          26.0  \n",
      "73          27.0  \n",
      "\n",
      "[74 rows x 12 columns]\n"
     ]
    }
   ],
   "source": [
    "# print(aligned_df)"
   ]
  },
  {
   "cell_type": "code",
   "execution_count": 22,
   "id": "67d1fce6",
   "metadata": {},
   "outputs": [],
   "source": [
    "# pridedama pirmo stulpelio pavadinimas \"Municipalities\" \n",
    "new_df['Municipalities'] = aligned_df_difference['Municipalities']"
   ]
  },
  {
   "cell_type": "code",
   "execution_count": 23,
   "id": "185b0020",
   "metadata": {},
   "outputs": [],
   "source": [
    "# pridedama stulpelio pavadinimas 'Visi' \n",
    "new_df['Visi'] = aligned_df_first_calculation['Visi']"
   ]
  },
  {
   "cell_type": "code",
   "execution_count": 24,
   "id": "57f22910",
   "metadata": {},
   "outputs": [],
   "source": [
    "# pridedamas stulpelis duomenų \"Visi_Difference\"  \n",
    "new_df['Visi_Difference'] = aligned_df_difference['Visi_Difference']"
   ]
  },
  {
   "cell_type": "code",
   "execution_count": 25,
   "id": "8f5cfcdc",
   "metadata": {},
   "outputs": [],
   "source": [
    "# pridedami 28 nauji stulepliai Vasario mėnesio dienom \n",
    "for day in reversed(range(1, 29)):\n",
    "    new_df.insert(loc=1, column=f'Day_{day}', value=None)  # Nauji stulpeliai įterpiami nuo antros pozicijos, pirma skirta savivaldybių pavadinimam.\n"
   ]
  },
  {
   "cell_type": "code",
   "execution_count": 28,
   "id": "bd2b03e5",
   "metadata": {},
   "outputs": [
    {
     "name": "stdout",
     "output_type": "stream",
     "text": [
      "         Municipalities          Day_1          Day_2          Day_3  \\\n",
      "0   Lietuvos Respublika      2801124.0      2801045.0      2800966.0   \n",
      "1     Sostinės regionas  817125.678571  817112.357143  817099.035714   \n",
      "2    Vilniaus apskritis  817125.678571  817112.357143  817099.035714   \n",
      "3        Elektrėnų sav.   23488.392857   23487.785714   23487.178571   \n",
      "4    Šalčininkų r. sav.   29619.214286   29618.428571   29617.642857   \n",
      "..                  ...            ...            ...            ...   \n",
      "68     Anykščių r. sav.   22709.214286   22707.428571   22705.642857   \n",
      "69    Ignalinos r. sav.        14406.5        14405.0        14403.5   \n",
      "70       Molėtų r. sav.   16869.142857   16868.285714   16867.428571   \n",
      "71       Utenos r. sav.        37175.5        37174.0        37172.5   \n",
      "72        Visagino sav.   19359.357143   19358.714286   19358.071429   \n",
      "\n",
      "            Day_4          Day_5          Day_6      Day_7          Day_8  \\\n",
      "0       2800887.0      2800808.0      2800729.0  2800650.0      2800571.0   \n",
      "1   817085.714286  817072.392857  817059.071429  817045.75  817032.428571   \n",
      "2   817085.714286  817072.392857  817059.071429  817045.75  817032.428571   \n",
      "3    23486.571429   23485.964286   23485.357143   23484.75   23484.142857   \n",
      "4    29616.857143   29616.071429   29615.285714    29614.5   29613.714286   \n",
      "..            ...            ...            ...        ...            ...   \n",
      "68   22703.857143   22702.071429   22700.285714    22698.5   22696.714286   \n",
      "69        14402.0        14400.5        14399.0    14397.5        14396.0   \n",
      "70   16866.571429   16865.714286   16864.857143    16864.0   16863.142857   \n",
      "71        37171.0        37169.5        37168.0    37166.5        37165.0   \n",
      "72   19357.428571   19356.785714   19356.142857    19355.5   19354.857143   \n",
      "\n",
      "            Day_9  ...     Day_21         Day_22         Day_23  \\\n",
      "0       2800492.0  ...  2799544.0      2799465.0      2799386.0   \n",
      "1   817019.107143  ...  816859.25  816845.928571  816832.607143   \n",
      "2   817019.107143  ...  816859.25  816845.928571  816832.607143   \n",
      "3    23483.535714  ...   23476.25   23475.642857   23475.035714   \n",
      "4    29612.928571  ...    29603.5   29602.714286   29601.928571   \n",
      "..            ...  ...        ...            ...            ...   \n",
      "68   22694.928571  ...    22673.5   22671.714286   22669.928571   \n",
      "69        14394.5  ...    14376.5        14375.0        14373.5   \n",
      "70   16862.285714  ...    16852.0   16851.142857   16850.285714   \n",
      "71        37163.5  ...    37145.5        37144.0        37142.5   \n",
      "72   19354.214286  ...    19346.5   19345.857143   19345.214286   \n",
      "\n",
      "           Day_24         Day_25         Day_26         Day_27     Day_28  \\\n",
      "0       2799307.0      2799228.0      2799149.0      2799070.0  2798991.0   \n",
      "1   816819.285714  816805.964286  816792.642857  816779.321429   816766.0   \n",
      "2   816819.285714  816805.964286  816792.642857  816779.321429   816766.0   \n",
      "3    23474.428571   23473.821429   23473.214286   23472.607143    23472.0   \n",
      "4    29601.142857   29600.357143   29599.571429   29598.785714    29598.0   \n",
      "..            ...            ...            ...            ...        ...   \n",
      "68   22668.142857   22666.357143   22664.571429   22662.785714    22661.0   \n",
      "69        14372.0        14370.5        14369.0        14367.5    14366.0   \n",
      "70   16849.428571   16848.571429   16847.714286   16846.857143    16846.0   \n",
      "71        37141.0        37139.5        37138.0        37136.5    37135.0   \n",
      "72   19344.571429   19343.928571   19343.285714   19342.642857    19342.0   \n",
      "\n",
      "         Visi Visi_Difference  \n",
      "0   2801203.0      -79.000000  \n",
      "1    817139.0      -13.321429  \n",
      "2    817139.0      -13.321429  \n",
      "3     23489.0       -0.607143  \n",
      "4     29620.0       -0.785714  \n",
      "..        ...             ...  \n",
      "68    22711.0       -1.785714  \n",
      "69    14408.0       -1.500000  \n",
      "70    16870.0       -0.857143  \n",
      "71    37177.0       -1.500000  \n",
      "72    19360.0       -0.642857  \n",
      "\n",
      "[73 rows x 31 columns]\n"
     ]
    }
   ],
   "source": [
    "print(new_df)\n",
    "new_df.to_excel(\"new_df.xlsx\")"
   ]
  },
  {
   "cell_type": "code",
   "execution_count": 30,
   "id": "cb9d2edd",
   "metadata": {},
   "outputs": [
    {
     "name": "stdout",
     "output_type": "stream",
     "text": [
      "Index(['Municipalities', 'Day_1', 'Day_2', 'Day_3', 'Day_4', 'Day_5', 'Day_6',\n",
      "       'Day_7', 'Day_8', 'Day_9', 'Day_10', 'Day_11', 'Day_12', 'Day_13',\n",
      "       'Day_14', 'Day_15', 'Day_16', 'Day_17', 'Day_18', 'Day_19', 'Day_20',\n",
      "       'Day_21', 'Day_22', 'Day_23', 'Day_24', 'Day_25', 'Day_26', 'Day_27',\n",
      "       'Day_28', 'Visi', 'Visi_Difference'],\n",
      "      dtype='object')\n"
     ]
    }
   ],
   "source": [
    "print(new_df.columns)"
   ]
  },
  {
   "cell_type": "code",
   "execution_count": 31,
   "id": "24be2e42",
   "metadata": {},
   "outputs": [
    {
     "name": "stdout",
     "output_type": "stream",
     "text": [
      "Skipping column 'Municipalities' due to naming inconsistency.\n",
      "Skipping column 'Municipalities' due to naming inconsistency.\n",
      "Skipping column 'Municipalities' due to naming inconsistency.\n",
      "Skipping column 'Municipalities' due to naming inconsistency.\n",
      "Skipping column 'Municipalities' due to naming inconsistency.\n",
      "Skipping column 'Municipalities' due to naming inconsistency.\n",
      "Skipping column 'Municipalities' due to naming inconsistency.\n",
      "Skipping column 'Municipalities' due to naming inconsistency.\n",
      "Skipping column 'Municipalities' due to naming inconsistency.\n",
      "Skipping column 'Municipalities' due to naming inconsistency.\n",
      "Skipping column 'Municipalities' due to naming inconsistency.\n",
      "Skipping column 'Municipalities' due to naming inconsistency.\n",
      "Skipping column 'Municipalities' due to naming inconsistency.\n",
      "Skipping column 'Municipalities' due to naming inconsistency.\n",
      "Skipping column 'Municipalities' due to naming inconsistency.\n",
      "Skipping column 'Municipalities' due to naming inconsistency.\n",
      "Skipping column 'Municipalities' due to naming inconsistency.\n",
      "Skipping column 'Municipalities' due to naming inconsistency.\n",
      "Skipping column 'Municipalities' due to naming inconsistency.\n",
      "Skipping column 'Municipalities' due to naming inconsistency.\n",
      "Skipping column 'Municipalities' due to naming inconsistency.\n",
      "Skipping column 'Municipalities' due to naming inconsistency.\n",
      "Skipping column 'Municipalities' due to naming inconsistency.\n",
      "Skipping column 'Municipalities' due to naming inconsistency.\n",
      "Skipping column 'Municipalities' due to naming inconsistency.\n",
      "Skipping column 'Municipalities' due to naming inconsistency.\n",
      "Skipping column 'Municipalities' due to naming inconsistency.\n",
      "Skipping column 'Municipalities' due to naming inconsistency.\n",
      "Skipping column 'Municipalities' due to naming inconsistency.\n",
      "Skipping column 'Municipalities' due to naming inconsistency.\n",
      "Skipping column 'Municipalities' due to naming inconsistency.\n",
      "Skipping column 'Municipalities' due to naming inconsistency.\n",
      "Skipping column 'Municipalities' due to naming inconsistency.\n",
      "Skipping column 'Municipalities' due to naming inconsistency.\n",
      "Skipping column 'Municipalities' due to naming inconsistency.\n",
      "Skipping column 'Municipalities' due to naming inconsistency.\n",
      "Skipping column 'Municipalities' due to naming inconsistency.\n",
      "Skipping column 'Municipalities' due to naming inconsistency.\n",
      "Skipping column 'Municipalities' due to naming inconsistency.\n",
      "Skipping column 'Municipalities' due to naming inconsistency.\n",
      "Skipping column 'Municipalities' due to naming inconsistency.\n",
      "Skipping column 'Municipalities' due to naming inconsistency.\n",
      "Skipping column 'Municipalities' due to naming inconsistency.\n",
      "Skipping column 'Municipalities' due to naming inconsistency.\n",
      "Skipping column 'Municipalities' due to naming inconsistency.\n",
      "Skipping column 'Municipalities' due to naming inconsistency.\n",
      "Skipping column 'Municipalities' due to naming inconsistency.\n",
      "Skipping column 'Municipalities' due to naming inconsistency.\n",
      "Skipping column 'Municipalities' due to naming inconsistency.\n",
      "Skipping column 'Municipalities' due to naming inconsistency.\n",
      "Skipping column 'Municipalities' due to naming inconsistency.\n",
      "Skipping column 'Municipalities' due to naming inconsistency.\n",
      "Skipping column 'Municipalities' due to naming inconsistency.\n",
      "Skipping column 'Municipalities' due to naming inconsistency.\n",
      "Skipping column 'Municipalities' due to naming inconsistency.\n",
      "Skipping column 'Municipalities' due to naming inconsistency.\n",
      "Skipping column 'Municipalities' due to naming inconsistency.\n",
      "Skipping column 'Municipalities' due to naming inconsistency.\n",
      "Skipping column 'Municipalities' due to naming inconsistency.\n",
      "Skipping column 'Municipalities' due to naming inconsistency.\n",
      "Skipping column 'Municipalities' due to naming inconsistency.\n",
      "Skipping column 'Municipalities' due to naming inconsistency.\n",
      "Skipping column 'Municipalities' due to naming inconsistency.\n",
      "Skipping column 'Municipalities' due to naming inconsistency.\n",
      "Skipping column 'Municipalities' due to naming inconsistency.\n",
      "Skipping column 'Municipalities' due to naming inconsistency.\n",
      "Skipping column 'Municipalities' due to naming inconsistency.\n",
      "Skipping column 'Municipalities' due to naming inconsistency.\n",
      "Skipping column 'Municipalities' due to naming inconsistency.\n",
      "Skipping column 'Municipalities' due to naming inconsistency.\n",
      "Skipping column 'Municipalities' due to naming inconsistency.\n",
      "Skipping column 'Municipalities' due to naming inconsistency.\n",
      "Skipping column 'Municipalities' due to naming inconsistency.\n"
     ]
    }
   ],
   "source": [
    "#  suskaičiuoja, interpoliuoja, kiek gyventojų kasdieną buvo vasario mėnesį, \n",
    "\n",
    "for index, row in new_df.iterrows():\n",
    "    # Iterate through each day column in new_df, excluding the last two columns\n",
    "    for day_column in new_df.columns[:-2]:  # paskutinius du stulpelius praleidžia ('Visi', 'Visi_Difference')\n",
    "        # tikrina ar  stulpelio pavadinimas prasideda 'Day_'\n",
    "        if not day_column.startswith('Day_'):\n",
    "            print(f\"Skipping column '{day_column}' due to naming inconsistency.\")\n",
    "            continue\n",
    "        \n",
    "        #  dienos skaičius iš stulpelio pavadinimo \n",
    "        try:\n",
    "            day_number = int(day_column.split('_')[1])\n",
    "        except IndexError:\n",
    "            print(f\"Skipping column '{day_column}' due to naming inconsistency.\")\n",
    "            continue\n",
    "\n",
    "        # paskaičiuojama esamos dienos vertė, žmonių skaičius \n",
    "        if day_number == 1:\n",
    "            # Day 1,  'Visi' + 'Visi_Difference'\n",
    "            new_df.at[index, day_column] = row['Visi'] + row['Visi_Difference']\n",
    "        else:\n",
    "            # kitom mėnesio dienom, 'Visi' +  'Visi_Difference' * dienų skaičiaus \n",
    "            new_df.at[index, day_column] = row['Visi'] + (day_number * row['Visi_Difference'])\n"
   ]
  },
  {
   "cell_type": "code",
   "execution_count": 33,
   "id": "db76b586",
   "metadata": {},
   "outputs": [
    {
     "name": "stdout",
     "output_type": "stream",
     "text": [
      "         Municipalities          Day_1          Day_2          Day_3  \\\n",
      "0   Lietuvos Respublika      2801124.0      2801045.0      2800966.0   \n",
      "1     Sostinės regionas  817125.678571  817112.357143  817099.035714   \n",
      "2    Vilniaus apskritis  817125.678571  817112.357143  817099.035714   \n",
      "3        Elektrėnų sav.   23488.392857   23487.785714   23487.178571   \n",
      "4    Šalčininkų r. sav.   29619.214286   29618.428571   29617.642857   \n",
      "..                  ...            ...            ...            ...   \n",
      "68     Anykščių r. sav.   22709.214286   22707.428571   22705.642857   \n",
      "69    Ignalinos r. sav.        14406.5        14405.0        14403.5   \n",
      "70       Molėtų r. sav.   16869.142857   16868.285714   16867.428571   \n",
      "71       Utenos r. sav.        37175.5        37174.0        37172.5   \n",
      "72        Visagino sav.   19359.357143   19358.714286   19358.071429   \n",
      "\n",
      "            Day_4          Day_5          Day_6      Day_7          Day_8  \\\n",
      "0       2800887.0      2800808.0      2800729.0  2800650.0      2800571.0   \n",
      "1   817085.714286  817072.392857  817059.071429  817045.75  817032.428571   \n",
      "2   817085.714286  817072.392857  817059.071429  817045.75  817032.428571   \n",
      "3    23486.571429   23485.964286   23485.357143   23484.75   23484.142857   \n",
      "4    29616.857143   29616.071429   29615.285714    29614.5   29613.714286   \n",
      "..            ...            ...            ...        ...            ...   \n",
      "68   22703.857143   22702.071429   22700.285714    22698.5   22696.714286   \n",
      "69        14402.0        14400.5        14399.0    14397.5        14396.0   \n",
      "70   16866.571429   16865.714286   16864.857143    16864.0   16863.142857   \n",
      "71        37171.0        37169.5        37168.0    37166.5        37165.0   \n",
      "72   19357.428571   19356.785714   19356.142857    19355.5   19354.857143   \n",
      "\n",
      "            Day_9  ...     Day_21         Day_22         Day_23  \\\n",
      "0       2800492.0  ...  2799544.0      2799465.0      2799386.0   \n",
      "1   817019.107143  ...  816859.25  816845.928571  816832.607143   \n",
      "2   817019.107143  ...  816859.25  816845.928571  816832.607143   \n",
      "3    23483.535714  ...   23476.25   23475.642857   23475.035714   \n",
      "4    29612.928571  ...    29603.5   29602.714286   29601.928571   \n",
      "..            ...  ...        ...            ...            ...   \n",
      "68   22694.928571  ...    22673.5   22671.714286   22669.928571   \n",
      "69        14394.5  ...    14376.5        14375.0        14373.5   \n",
      "70   16862.285714  ...    16852.0   16851.142857   16850.285714   \n",
      "71        37163.5  ...    37145.5        37144.0        37142.5   \n",
      "72   19354.214286  ...    19346.5   19345.857143   19345.214286   \n",
      "\n",
      "           Day_24         Day_25         Day_26         Day_27     Day_28  \\\n",
      "0       2799307.0      2799228.0      2799149.0      2799070.0  2798991.0   \n",
      "1   816819.285714  816805.964286  816792.642857  816779.321429   816766.0   \n",
      "2   816819.285714  816805.964286  816792.642857  816779.321429   816766.0   \n",
      "3    23474.428571   23473.821429   23473.214286   23472.607143    23472.0   \n",
      "4    29601.142857   29600.357143   29599.571429   29598.785714    29598.0   \n",
      "..            ...            ...            ...            ...        ...   \n",
      "68   22668.142857   22666.357143   22664.571429   22662.785714    22661.0   \n",
      "69        14372.0        14370.5        14369.0        14367.5    14366.0   \n",
      "70   16849.428571   16848.571429   16847.714286   16846.857143    16846.0   \n",
      "71        37141.0        37139.5        37138.0        37136.5    37135.0   \n",
      "72   19344.571429   19343.928571   19343.285714   19342.642857    19342.0   \n",
      "\n",
      "         Visi Visi_Difference  \n",
      "0   2801203.0      -79.000000  \n",
      "1    817139.0      -13.321429  \n",
      "2    817139.0      -13.321429  \n",
      "3     23489.0       -0.607143  \n",
      "4     29620.0       -0.785714  \n",
      "..        ...             ...  \n",
      "68    22711.0       -1.785714  \n",
      "69    14408.0       -1.500000  \n",
      "70    16870.0       -0.857143  \n",
      "71    37177.0       -1.500000  \n",
      "72    19360.0       -0.642857  \n",
      "\n",
      "[73 rows x 31 columns]\n"
     ]
    }
   ],
   "source": [
    "# išsaugojama duomenų matrica į xlsx\n",
    "new_df.to_excel(\"updated_new_df.xlsx\", index=False)\n",
    "print(new_df)"
   ]
  },
  {
   "cell_type": "code",
   "execution_count": 34,
   "id": "101fdfd9",
   "metadata": {},
   "outputs": [],
   "source": [
    "# new_df pervadinama į population_df ir išsaugojama xlsx formatu\n",
    "population_df = new_df.copy(deep=True)\n",
    "population_df.to_excel(\"population_df.xlsx\", index=False)"
   ]
  },
  {
   "cell_type": "code",
   "execution_count": 35,
   "id": "9b14454d",
   "metadata": {},
   "outputs": [],
   "source": []
  },
  {
   "cell_type": "code",
   "execution_count": 36,
   "id": "5eb34725",
   "metadata": {},
   "outputs": [],
   "source": []
  },
  {
   "cell_type": "code",
   "execution_count": null,
   "id": "6f111d13",
   "metadata": {},
   "outputs": [],
   "source": []
  }
 ],
 "metadata": {
  "kernelspec": {
   "display_name": "Python 3 (ipykernel)",
   "language": "python",
   "name": "python3"
  },
  "language_info": {
   "codemirror_mode": {
    "name": "ipython",
    "version": 3
   },
   "file_extension": ".py",
   "mimetype": "text/x-python",
   "name": "python",
   "nbconvert_exporter": "python",
   "pygments_lexer": "ipython3",
   "version": "3.9.18"
  }
 },
 "nbformat": 4,
 "nbformat_minor": 5
}
